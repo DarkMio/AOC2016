{
 "cells": [
  {
   "cell_type": "code",
   "execution_count": 2,
   "metadata": {
    "collapsed": true
   },
   "outputs": [],
   "source": [
    "with open('input.txt', 'r') as f:\n",
    "    data = f.readlines()"
   ]
  },
  {
   "cell_type": "code",
   "execution_count": 19,
   "metadata": {
    "collapsed": false
   },
   "outputs": [
    {
     "name": "stdout",
     "output_type": "stream",
     "text": [
      "███  █  █ ███  █  █  ██  ████  ██  ████  ███ █    \n",
      "█  █ █  █ █  █ █  █ █  █ █    █  █ █      █  █    \n",
      "█  █ █  █ █  █ █  █ █    ███  █  █ ███    █  █    \n",
      "███  █  █ ███  █  █ █    █    █  █ █      █  █    \n",
      "█ █  █  █ █ █  █  █ █  █ █    █  █ █      █  █    \n",
      "█  █  ██  █  █  ██   ██  ████  ██  ████  ███ ████ \n",
      "121 pixels lit up!\n"
     ]
    }
   ],
   "source": [
    "import re\n",
    "import time\n",
    "from IPython.display import clear_output\n",
    "import matplotlib.pyplot as plt\n",
    "import matplotlib.patches as patches\n",
    "\n",
    "with open('input.txt', 'r') as f:\n",
    "    data = f.readlines()\n",
    "\n",
    "unlit = \" \"\n",
    "lit = \"█\"\n",
    "\n",
    "mat = [[unlit] * 50 for _ in range(6)]\n",
    "\n",
    "def swap(m, i1, j1, i2, j2):\n",
    "    m[i1][j1], m[i2][j2] = m[i2][j2], m[i1][j1]\n",
    "\n",
    "def rect(m, x, y1):\n",
    "    for i in range(0, y):\n",
    "        for j in range(0, x):\n",
    "            m[i][j] = lit\n",
    "\n",
    "def shift(m, x=0, column=True, dir=1):\n",
    "    i = x\n",
    "    size = len(m) if column else len(m[i])\n",
    "\n",
    "    if dir == 1:\n",
    "        for j in range(size-1, -1, -1):\n",
    "            if j > 0:\n",
    "                if column:\n",
    "                    swap(m, j, i, j-1, i)\n",
    "                else:\n",
    "                    swap(m, i, j, i, j-1)\n",
    "    else:\n",
    "        for j in range(0, size):\n",
    "            if j < size-1:\n",
    "                if column:\n",
    "                    swap(m, j, i, j-1, i)\n",
    "                else:\n",
    "                    swap(m, i, j, i, j+1)\n",
    "\n",
    "def print_matrix(m):\n",
    "    clear_output(wait=True)\n",
    "    for i in range(0, len(m)):\n",
    "        for j in range(0, len(m[i])):\n",
    "            print(mat[i][j], end=\"\")\n",
    "        print()\n",
    "    # time.sleep(0.3)\n",
    "\n",
    "\n",
    "for line in data:\n",
    "    command = line.split()\n",
    "    if command[0] == \"rect\":\n",
    "        params = command[1].split(\"x\")\n",
    "        x = int(params[0])\n",
    "        y = int(params[1])\n",
    "        rect(mat, x, y)\n",
    "    elif command[0] == \"rotate\":\n",
    "        amount = int(command[-1])\n",
    "        column = command[1] == \"column\"\n",
    "        index = int(command[2].split(\"=\")[1])\n",
    "        for i in range(0, amount):\n",
    "            shift(mat, index, column, 1)\n",
    "    print_matrix(mat)\n",
    "    time.sleep(0.0333)\n",
    "\n",
    "c = [mat[i].count(lit) for i in range(len(mat))]\n",
    "print_matrix(mat)\n",
    "print(\"%d pixels lit up!\" % sum(c))"
   ]
  },
  {
   "cell_type": "code",
   "execution_count": null,
   "metadata": {
    "collapsed": true
   },
   "outputs": [],
   "source": []
  }
 ],
 "metadata": {
  "kernelspec": {
   "display_name": "Python 3",
   "language": "python",
   "name": "python3"
  },
  "language_info": {
   "codemirror_mode": {
    "name": "ipython",
    "version": 3
   },
   "file_extension": ".py",
   "mimetype": "text/x-python",
   "name": "python",
   "nbconvert_exporter": "python",
   "pygments_lexer": "ipython3",
   "version": "3.5.1"
  }
 },
 "nbformat": 4,
 "nbformat_minor": 0
}
