{
 "cells": [
  {
   "cell_type": "code",
   "execution_count": 4,
   "metadata": {
    "collapsed": false,
    "scrolled": true
   },
   "outputs": [
    {
     "name": "stdout",
     "output_type": "stream",
     "text": [
      "███  █  █ ███  █  █  ██  ████  ██  ████  ███ █    \n",
      "█  █ █  █ █  █ █  █ █  █ █    █  █ █      █  █    \n",
      "█  █ █  █ █  █ █  █ █    ███  █  █ ███    █  █    \n",
      "███  █  █ ███  █  █ █    █    █  █ █      █  █    \n",
      "█ █  █  █ █ █  █  █ █  █ █    █  █ █      █  █    \n",
      "█  █  ██  █  █  ██   ██  ████  ██  ████  ███ ████ \n",
      "121 Pixels are lit up\n"
     ]
    }
   ],
   "source": [
    "import re\n",
    "import time\n",
    "from IPython.display import clear_output\n",
    "import numpy as np\n",
    "\n",
    "def print_mat(mat):\n",
    "    clear_output(wait=True)\n",
    "    print('\\n'.join(map(''.join, mat.astype(str))).translate({ord('0'):ord(' '), ord('1'):ord('█')}))\n",
    "    \n",
    "    \n",
    "array = np.zeros([6, 50], dtype=int)\n",
    "with open('input.txt') as fp:\n",
    "    for line in fp:\n",
    "        a, b = map(int,re.findall(r'\\d+', line))\n",
    "        inst, *text = line.split(' ')\n",
    "        if inst=='rect':\n",
    "            array[:b,:a] = 1\n",
    "        elif text[0]=='row':\n",
    "            array[a] = np.roll(array[a], b)\n",
    "        elif text[0]=='column':\n",
    "            array.T[a] = np.roll(array.T[a], b)\n",
    "        print_mat(array)\n",
    "        time.sleep(1. / 60)\n",
    "    print(np.sum(array), \"Pixels are lit up\")"
   ]
  }
 ],
 "metadata": {
  "celltoolbar": "Edit Metadata",
  "kernelspec": {
   "display_name": "Python 3",
   "language": "python",
   "name": "python3"
  },
  "language_info": {
   "codemirror_mode": {
    "name": "ipython",
    "version": 3
   },
   "file_extension": ".py",
   "mimetype": "text/x-python",
   "name": "python",
   "nbconvert_exporter": "python",
   "pygments_lexer": "ipython3",
   "version": "3.5.1"
  }
 },
 "nbformat": 4,
 "nbformat_minor": 0
}
